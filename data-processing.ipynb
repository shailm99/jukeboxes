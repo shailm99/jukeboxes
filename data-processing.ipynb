{
 "cells": [
  {
   "cell_type": "code",
   "execution_count": 66,
   "source": [
    "import pandas as pd\n",
    "import spacy\n",
    "import nltk\n",
    "import numpy as np"
   ],
   "outputs": [],
   "metadata": {}
  },
  {
   "cell_type": "code",
   "execution_count": 67,
   "source": [
    "df = pd.read_csv('music_lyrics.csv', index_col = 0) \n",
    "cols_to_keep = ['artist_name', 'track_name', 'release_date', 'genre', 'lyrics', 'len', 'danceability', 'loudness',\n",
    "       'acousticness', 'instrumentalness', 'valence', 'energy']\n",
    "lyrics  = df[cols_to_keep]"
   ],
   "outputs": [],
   "metadata": {}
  },
  {
   "cell_type": "code",
   "execution_count": 105,
   "source": [
    "lyrics['decade'] = pd.cut(lyrics.release_date, range(1949, 2020, 10))\n",
    "lyrics['decade'] = lyrics['decade'].apply(lambda x: f'{x.left + 1} - {x.right}')"
   ],
   "outputs": [
    {
     "output_type": "stream",
     "name": "stderr",
     "text": [
      "<ipython-input-105-5c30a08f4148>:1: SettingWithCopyWarning: \n",
      "A value is trying to be set on a copy of a slice from a DataFrame.\n",
      "Try using .loc[row_indexer,col_indexer] = value instead\n",
      "\n",
      "See the caveats in the documentation: https://pandas.pydata.org/pandas-docs/stable/user_guide/indexing.html#returning-a-view-versus-a-copy\n",
      "  lyrics['decade'] = pd.cut(lyrics.release_date, range(1949, 2020, 10))\n",
      "<ipython-input-105-5c30a08f4148>:2: SettingWithCopyWarning: \n",
      "A value is trying to be set on a copy of a slice from a DataFrame.\n",
      "Try using .loc[row_indexer,col_indexer] = value instead\n",
      "\n",
      "See the caveats in the documentation: https://pandas.pydata.org/pandas-docs/stable/user_guide/indexing.html#returning-a-view-versus-a-copy\n",
      "  lyrics['decade'] = lyrics['decade'].apply(lambda x: f'{x.left + 1} - {x.right}')\n"
     ]
    }
   ],
   "metadata": {}
  },
  {
   "cell_type": "code",
   "execution_count": 108,
   "source": [
    "df['decade'] = lyrics['decade']\n",
    "cols_to_keep = ['artist_name', 'track_name', 'release_date', 'genre', 'lyrics', 'len', 'danceability', 'loudness',\n",
    "       'acousticness', 'instrumentalness', 'valence', 'energy', 'decade']"
   ],
   "outputs": [],
   "metadata": {}
  },
  {
   "cell_type": "code",
   "execution_count": 68,
   "source": [
    "lyrics.lyrics.str.len()"
   ],
   "outputs": [
    {
     "output_type": "execute_result",
     "data": {
      "text/plain": [
       "0        522\n",
       "4        316\n",
       "6        153\n",
       "10       314\n",
       "12       273\n",
       "        ... \n",
       "82447    476\n",
       "82448    400\n",
       "82449    490\n",
       "82450    397\n",
       "82451    518\n",
       "Name: lyrics, Length: 28372, dtype: int64"
      ]
     },
     "metadata": {},
     "execution_count": 68
    }
   ],
   "metadata": {}
  },
  {
   "cell_type": "code",
   "execution_count": 69,
   "source": [
    "lyrics.columns"
   ],
   "outputs": [
    {
     "output_type": "execute_result",
     "data": {
      "text/plain": [
       "Index(['artist_name', 'track_name', 'release_date', 'genre', 'lyrics', 'len',\n",
       "       'danceability', 'loudness', 'acousticness', 'instrumentalness',\n",
       "       'valence', 'energy'],\n",
       "      dtype='object')"
      ]
     },
     "metadata": {},
     "execution_count": 69
    }
   ],
   "metadata": {}
  },
  {
   "cell_type": "code",
   "execution_count": 70,
   "source": [
    "lyrics['avg_word_length'] = lyrics.lyrics.str.split(' ').apply(lambda x : np.mean([len(word)for word in x]))"
   ],
   "outputs": [
    {
     "output_type": "stream",
     "name": "stderr",
     "text": [
      "<ipython-input-70-f1b56a0f0fe6>:1: SettingWithCopyWarning: \n",
      "A value is trying to be set on a copy of a slice from a DataFrame.\n",
      "Try using .loc[row_indexer,col_indexer] = value instead\n",
      "\n",
      "See the caveats in the documentation: https://pandas.pydata.org/pandas-docs/stable/user_guide/indexing.html#returning-a-view-versus-a-copy\n",
      "  lyrics['avg_word_length'] = lyrics.lyrics.str.split(' ').apply(lambda x : np.mean([len(word)for word in x]))\n"
     ]
    }
   ],
   "metadata": {}
  },
  {
   "cell_type": "code",
   "execution_count": 71,
   "source": [
    "# finding adjectives, verbs and nouns\n",
    "nlp = spacy.load('en_core_web_sm')\n",
    "pos_tags = []\n",
    "for doc in nlp.pipe(lyrics.lyrics.values.tolist()):\n",
    "    doc_tags = []\n",
    "    for token in doc:\n",
    "        doc_tags.append(token.pos_)\n",
    "    pos_tags.append(doc_tags)"
   ],
   "outputs": [],
   "metadata": {}
  },
  {
   "cell_type": "code",
   "execution_count": 72,
   "source": [
    "adj_count = [doc_pos.count('ADJ') for doc_pos in pos_tags]\n",
    "lyrics['adj_count'] = adj_count"
   ],
   "outputs": [
    {
     "output_type": "stream",
     "name": "stderr",
     "text": [
      "<ipython-input-72-c474b6dec6da>:2: SettingWithCopyWarning: \n",
      "A value is trying to be set on a copy of a slice from a DataFrame.\n",
      "Try using .loc[row_indexer,col_indexer] = value instead\n",
      "\n",
      "See the caveats in the documentation: https://pandas.pydata.org/pandas-docs/stable/user_guide/indexing.html#returning-a-view-versus-a-copy\n",
      "  lyrics['adj_count'] = adj_count\n"
     ]
    }
   ],
   "metadata": {}
  },
  {
   "cell_type": "code",
   "execution_count": 73,
   "source": [
    "verb_count = [doc_pos.count('VERB') for doc_pos in pos_tags]\n",
    "lyrics['verb_count'] = verb_count"
   ],
   "outputs": [
    {
     "output_type": "stream",
     "name": "stderr",
     "text": [
      "<ipython-input-73-c91855e6d87d>:2: SettingWithCopyWarning: \n",
      "A value is trying to be set on a copy of a slice from a DataFrame.\n",
      "Try using .loc[row_indexer,col_indexer] = value instead\n",
      "\n",
      "See the caveats in the documentation: https://pandas.pydata.org/pandas-docs/stable/user_guide/indexing.html#returning-a-view-versus-a-copy\n",
      "  lyrics['verb_count'] = verb_count\n"
     ]
    }
   ],
   "metadata": {}
  },
  {
   "cell_type": "code",
   "execution_count": 86,
   "source": [
    "noun_count = [doc_pos.count('NOUN') for doc_pos in pos_tags]\n",
    "lyrics['noun_count'] = noun_count"
   ],
   "outputs": [
    {
     "output_type": "stream",
     "name": "stderr",
     "text": [
      "<ipython-input-86-a475a19b6a8b>:2: SettingWithCopyWarning: \n",
      "A value is trying to be set on a copy of a slice from a DataFrame.\n",
      "Try using .loc[row_indexer,col_indexer] = value instead\n",
      "\n",
      "See the caveats in the documentation: https://pandas.pydata.org/pandas-docs/stable/user_guide/indexing.html#returning-a-view-versus-a-copy\n",
      "  lyrics['noun_count'] = noun_count\n"
     ]
    }
   ],
   "metadata": {}
  },
  {
   "cell_type": "code",
   "execution_count": 74,
   "source": [
    "# extracting the top 500 most used words\n",
    "from sklearn.feature_extraction.text import CountVectorizer\n",
    "cv = CountVectorizer(max_features = 500, stop_words = 'english')\n",
    "words = pd.DataFrame(cv.fit_transform(lyrics.lyrics).toarray(), columns  = cv.get_feature_names())\n",
    "words.sum().sort_values()"
   ],
   "outputs": [
    {
     "output_type": "execute_result",
     "data": {
      "text/plain": [
       "lay            642\n",
       "escape         643\n",
       "lonesome       644\n",
       "happiness      646\n",
       "holy           648\n",
       "             ...  \n",
       "feel         16795\n",
       "come         23619\n",
       "time         26504\n",
       "like         29649\n",
       "know         33526\n",
       "Length: 500, dtype: int64"
      ]
     },
     "metadata": {},
     "execution_count": 74
    }
   ],
   "metadata": {}
  },
  {
   "cell_type": "code",
   "execution_count": 75,
   "source": [
    "# extracting the top 500 two or three word phrases\n",
    "cv2 = CountVectorizer(max_features = 500, stop_words = 'english', ngram_range = (2,3))\n",
    "phrases = pd.DataFrame(cv2.fit_transform(lyrics.lyrics).toarray(), columns  = cv2.get_feature_names())\n",
    "phrases.sum().sort_values()"
   ],
   "outputs": [
    {
     "output_type": "execute_result",
     "data": {
      "text/plain": [
       "yeah like         157\n",
       "spend life        157\n",
       "holy holy         157\n",
       "come feel         157\n",
       "nothin nothin     157\n",
       "                 ... \n",
       "break heart      1812\n",
       "know know        1935\n",
       "feel like        2012\n",
       "time time        2262\n",
       "yeah yeah        2874\n",
       "Length: 500, dtype: int64"
      ]
     },
     "metadata": {},
     "execution_count": 75
    }
   ],
   "metadata": {}
  },
  {
   "cell_type": "code",
   "execution_count": 88,
   "source": [
    "lyrics['percentage_adj'] = lyrics.adj_count / lyrics.len\n",
    "lyrics['percentage_noun'] = lyrics.noun_count / lyrics.len\n",
    "lyrics['percentage_verb'] = lyrics.verb_count / lyrics.len"
   ],
   "outputs": [
    {
     "output_type": "stream",
     "name": "stderr",
     "text": [
      "<ipython-input-88-cfa9da67030d>:1: SettingWithCopyWarning: \n",
      "A value is trying to be set on a copy of a slice from a DataFrame.\n",
      "Try using .loc[row_indexer,col_indexer] = value instead\n",
      "\n",
      "See the caveats in the documentation: https://pandas.pydata.org/pandas-docs/stable/user_guide/indexing.html#returning-a-view-versus-a-copy\n",
      "  lyrics['percentage_adj'] = lyrics.adj_count / lyrics.len\n",
      "<ipython-input-88-cfa9da67030d>:2: SettingWithCopyWarning: \n",
      "A value is trying to be set on a copy of a slice from a DataFrame.\n",
      "Try using .loc[row_indexer,col_indexer] = value instead\n",
      "\n",
      "See the caveats in the documentation: https://pandas.pydata.org/pandas-docs/stable/user_guide/indexing.html#returning-a-view-versus-a-copy\n",
      "  lyrics['percentage_noun'] = lyrics.noun_count / lyrics.len\n",
      "<ipython-input-88-cfa9da67030d>:3: SettingWithCopyWarning: \n",
      "A value is trying to be set on a copy of a slice from a DataFrame.\n",
      "Try using .loc[row_indexer,col_indexer] = value instead\n",
      "\n",
      "See the caveats in the documentation: https://pandas.pydata.org/pandas-docs/stable/user_guide/indexing.html#returning-a-view-versus-a-copy\n",
      "  lyrics['percentage_verb'] = lyrics.verb_count / lyrics.len\n"
     ]
    }
   ],
   "metadata": {}
  },
  {
   "cell_type": "code",
   "execution_count": 90,
   "source": [
    "lyrics.to_csv('summary.csv')"
   ],
   "outputs": [],
   "metadata": {}
  },
  {
   "cell_type": "code",
   "execution_count": 101,
   "source": [
    "# grouping years into their decade\n",
    "lyrics['decade'] = pd.cut(lyrics.release_date, range(1949, 2020, 10))\n",
    "lyrics['decade'] = lyrics['decade'].apply(lambda x: f'{x.left + 1} - {x.right}')"
   ],
   "outputs": [
    {
     "output_type": "stream",
     "name": "stderr",
     "text": [
      "<ipython-input-101-5c30a08f4148>:1: SettingWithCopyWarning: \n",
      "A value is trying to be set on a copy of a slice from a DataFrame.\n",
      "Try using .loc[row_indexer,col_indexer] = value instead\n",
      "\n",
      "See the caveats in the documentation: https://pandas.pydata.org/pandas-docs/stable/user_guide/indexing.html#returning-a-view-versus-a-copy\n",
      "  lyrics['decade'] = pd.cut(lyrics.release_date, range(1949, 2020, 10))\n",
      "<ipython-input-101-5c30a08f4148>:2: SettingWithCopyWarning: \n",
      "A value is trying to be set on a copy of a slice from a DataFrame.\n",
      "Try using .loc[row_indexer,col_indexer] = value instead\n",
      "\n",
      "See the caveats in the documentation: https://pandas.pydata.org/pandas-docs/stable/user_guide/indexing.html#returning-a-view-versus-a-copy\n",
      "  lyrics['decade'] = lyrics['decade'].apply(lambda x: f'{x.left + 1} - {x.right}')\n"
     ]
    }
   ],
   "metadata": {}
  },
  {
   "cell_type": "code",
   "execution_count": 109,
   "source": [
    "df[cols_to_keep].reset_index(drop = True).join(words).to_csv('words.csv')"
   ],
   "outputs": [],
   "metadata": {}
  },
  {
   "cell_type": "code",
   "execution_count": 110,
   "source": [
    "df[cols_to_keep].reset_index(drop = True).join(phrases).to_csv('phrases.csv')"
   ],
   "outputs": [],
   "metadata": {}
  },
  {
   "cell_type": "code",
   "execution_count": 116,
   "source": [
    "words.sum().sort_values(ascending = False).head(50)"
   ],
   "outputs": [
    {
     "output_type": "execute_result",
     "data": {
      "text/plain": [
       "know       33526\n",
       "like       29649\n",
       "time       26504\n",
       "come       23619\n",
       "feel       16795\n",
       "yeah       16787\n",
       "away       16773\n",
       "heart      16737\n",
       "life       15906\n",
       "want       14303\n",
       "cause      14265\n",
       "baby       13707\n",
       "right      12977\n",
       "live       12806\n",
       "leave      12790\n",
       "tell       11947\n",
       "night      11920\n",
       "think      11389\n",
       "world      10519\n",
       "need       10424\n",
       "long       10376\n",
       "gonna      10317\n",
       "look       10062\n",
       "break      10016\n",
       "good        9984\n",
       "hold        9822\n",
       "fall        9358\n",
       "hear        9044\n",
       "mind        8767\n",
       "dream       8069\n",
       "say         7969\n",
       "hand        7793\n",
       "wanna       7735\n",
       "home        7733\n",
       "eye         7373\n",
       "little      7233\n",
       "play        6967\n",
       "lose        6800\n",
       "better      6774\n",
       "walk        6736\n",
       "fuck        6699\n",
       "stay        6579\n",
       "head        6489\n",
       "turn        6483\n",
       "believe     6441\n",
       "stand       6428\n",
       "girl        6419\n",
       "change      6368\n",
       "sing        6289\n",
       "things      5754\n",
       "dtype: int64"
      ]
     },
     "metadata": {},
     "execution_count": 116
    }
   ],
   "metadata": {}
  },
  {
   "cell_type": "code",
   "execution_count": 117,
   "source": [
    "phrases.sum().sort_values(ascending = False).head(50)"
   ],
   "outputs": [
    {
     "output_type": "execute_result",
     "data": {
      "text/plain": [
       "yeah yeah           2874\n",
       "time time           2262\n",
       "feel like           2012\n",
       "know know           1935\n",
       "break heart         1812\n",
       "away away           1709\n",
       "long long           1440\n",
       "lyric commercial    1423\n",
       "hold hold           1366\n",
       "come come           1338\n",
       "right right         1329\n",
       "yeah yeah yeah      1213\n",
       "walk away           1191\n",
       "come home           1167\n",
       "fall fall           1138\n",
       "long time           1138\n",
       "feel feel           1115\n",
       "live live           1051\n",
       "baby baby           1011\n",
       "live life            986\n",
       "feel good            980\n",
       "life life            955\n",
       "good good            950\n",
       "night night          904\n",
       "sing song            887\n",
       "heart break          863\n",
       "leave leave          838\n",
       "want want            829\n",
       "believe believe      817\n",
       "good time            802\n",
       "night long           786\n",
       "close eye            782\n",
       "away away away       780\n",
       "hold tight           769\n",
       "look like            758\n",
       "hold hold hold       727\n",
       "time time time       722\n",
       "money money          711\n",
       "come true            691\n",
       "like like            690\n",
       "heart heart          658\n",
       "cause know           656\n",
       "mind mind            650\n",
       "know feel            649\n",
       "fade away            630\n",
       "hold hand            625\n",
       "home home            624\n",
       "tonight tonight      613\n",
       "break break          608\n",
       "time come            597\n",
       "dtype: int64"
      ]
     },
     "metadata": {},
     "execution_count": 117
    }
   ],
   "metadata": {}
  },
  {
   "cell_type": "code",
   "execution_count": 125,
   "source": [
    "pd.DataFrame({'Response' : df.lyrics, 'U_ID': range(len(df))}).reset_index(drop = True).to_json('lyrics_to_run.json')"
   ],
   "outputs": [],
   "metadata": {}
  },
  {
   "cell_type": "code",
   "execution_count": 127,
   "source": [
    "words = pd.read_csv('words.csv', index_col = 0)"
   ],
   "outputs": [],
   "metadata": {}
  },
  {
   "cell_type": "code",
   "execution_count": 1,
   "source": [
    "arrBad = [\n",
    "'2g1c',\n",
    "'2 girls 1 cup',\n",
    "'acrotomophilia',\n",
    "'anal',\n",
    "'anilingus',\n",
    "'anus',\n",
    "'arsehole',\n",
    "'ass',\n",
    "'asshole',\n",
    "'assmunch',\n",
    "'auto erotic',\n",
    "'autoerotic',\n",
    "'babeland',\n",
    "'baby batter',\n",
    "'ball gag',\n",
    "'ball gravy',\n",
    "'ball kicking',\n",
    "'ball licking',\n",
    "'ball sack',\n",
    "'ball sucking',\n",
    "'bangbros',\n",
    "'bareback',\n",
    "'barely legal',\n",
    "'barenaked',\n",
    "'bastardo',\n",
    "'bastinado',\n",
    "'bbw',\n",
    "'bdsm',\n",
    "'beaver cleaver',\n",
    "'beaver lips',\n",
    "'bestiality',\n",
    "'bi curious',\n",
    "'big black',\n",
    "'big breasts',\n",
    "'big knockers',\n",
    "'big tits',\n",
    "'bimbos',\n",
    "'birdlock',\n",
    "'bitch',\n",
    "'black cock',\n",
    "'blonde action',\n",
    "'blonde on blonde action',\n",
    "'blow j',\n",
    "'blow your l',\n",
    "'blue waffle',\n",
    "'blumpkin',\n",
    "'bollocks',\n",
    "'bondage',\n",
    "'boner',\n",
    "'boob',\n",
    "'boobs',\n",
    "'booty call',\n",
    "'brown showers',\n",
    "'brunette action',\n",
    "'bukkake',\n",
    "'bulldyke',\n",
    "'bullet vibe',\n",
    "'bung hole',\n",
    "'bunghole',\n",
    "'busty',\n",
    "'butt',\n",
    "'buttcheeks',\n",
    "'butthole',\n",
    "'camel toe',\n",
    "'camgirl',\n",
    "'camslut',\n",
    "'camwhore',\n",
    "'carpet muncher',\n",
    "'carpetmuncher',\n",
    "'chocolate rosebuds',\n",
    "'circlejerk',\n",
    "'cleveland steamer',\n",
    "'clit',\n",
    "'clitoris',\n",
    "'clover clamps',\n",
    "'clusterfuck',\n",
    "'cock',\n",
    "'cocks',\n",
    "'coprolagnia',\n",
    "'coprophilia',\n",
    "'cornhole',\n",
    "'cum',\n",
    "'cumming',\n",
    "'cunnilingus',\n",
    "'cunt',\n",
    "'darkie',\n",
    "'date rape',\n",
    "'daterape',\n",
    "'deep throat',\n",
    "'deepthroat',\n",
    "'dick',\n",
    "'dildo',\n",
    "'dirty pillows',\n",
    "'dirty sanchez',\n",
    "'dog style',\n",
    "'doggie style',\n",
    "'doggiestyle',\n",
    "'doggy style',\n",
    "'doggystyle',\n",
    "'dolcett',\n",
    "'domination',\n",
    "'dominatrix',\n",
    "'dommes',\n",
    "'donkey punch',\n",
    "'double dong',\n",
    "'double penetration',\n",
    "'dp action',\n",
    "'eat my ass',\n",
    "'ecchi',\n",
    "'ejaculation',\n",
    "'erotic',\n",
    "'erotism',\n",
    "'escort',\n",
    "'ethical slut',\n",
    "'eunuch',\n",
    "'faggot',\n",
    "'fecal',\n",
    "'felch',\n",
    "'fellatio',\n",
    "'feltch',\n",
    "'female squirting',\n",
    "'femdom',\n",
    "'figging',\n",
    "'fingering',\n",
    "'fisting',\n",
    "'foot fetish',\n",
    "'footjob',\n",
    "'frotting',\n",
    "'fuck',\n",
    "'fucking',\n",
    "'fuck buttons',\n",
    "'fudge packer',\n",
    "'fudgepacker',\n",
    "'futanari',\n",
    "'g-spot',\n",
    "'gang bang',\n",
    "'gay sex',\n",
    "'genitals',\n",
    "'giant cock',\n",
    "'girl on',\n",
    "'girl on top',\n",
    "'girls gone wild',\n",
    "'goatcx',\n",
    "'goatse',\n",
    "'gokkun',\n",
    "'golden shower',\n",
    "'goo girl',\n",
    "'goodpoop',\n",
    "'goregasm',\n",
    "'grope',\n",
    "'group sex',\n",
    "'guro',\n",
    "'hand job',\n",
    "'handjob',\n",
    "'hard core',\n",
    "'hardcore',\n",
    "'hentai',\n",
    "'homoerotic',\n",
    "'honkey',\n",
    "'hooker',\n",
    "'hot chick',\n",
    "'how to kill',\n",
    "'how to murder',\n",
    "'huge fat',\n",
    "'humping',\n",
    "'incest',\n",
    "'intercourse',\n",
    "'jack off',\n",
    "'jail bait',\n",
    "'jailbait',\n",
    "'jerk off',\n",
    "'jigaboo',\n",
    "'jiggaboo',\n",
    "'jiggerboo',\n",
    "'jizz',\n",
    "'juggs',\n",
    "'kike',\n",
    "'kinbaku',\n",
    "'kinkster',\n",
    "'kinky',\n",
    "'knobbing',\n",
    "'leather restraint',\n",
    "'leather straight jacket',\n",
    "'lemon party',\n",
    "'lolita',\n",
    "'lovemaking',\n",
    "'make me come',\n",
    "'male squirting',\n",
    "'masturbate',\n",
    "'menage a trois',\n",
    "'milf',\n",
    "'missionary position',\n",
    "'motherfucker',\n",
    "'mound of venus',\n",
    "'mr hands',\n",
    "'muff diver',\n",
    "'muffdiving',\n",
    "'nambla',\n",
    "'nawashi',\n",
    "'negro',\n",
    "'neonazi',\n",
    "'nig nog',\n",
    "'nigga',\n",
    "'nigger',\n",
    "'nimphomania',\n",
    "'nipple',\n",
    "'nipples',\n",
    "'nsfw images',\n",
    "'nude',\n",
    "'nudity',\n",
    "'nympho',\n",
    "'nymphomania',\n",
    "'octopussy',\n",
    "'omorashi',\n",
    "'one cup two girls',\n",
    "'one guy one jar',\n",
    "'orgasm',\n",
    "'orgy',\n",
    "'paedophile',\n",
    "'panties',\n",
    "'panty',\n",
    "'pedobear',\n",
    "'pedophile',\n",
    "'pegging',\n",
    "'penis',\n",
    "'phone sex',\n",
    "'piece of shit',\n",
    "'piss pig',\n",
    "'pissing',\n",
    "'pisspig',\n",
    "'playboy',\n",
    "'pleasure chest',\n",
    "'pole smoker',\n",
    "'ponyplay',\n",
    "'poof',\n",
    "'poop chute',\n",
    "'poopchute',\n",
    "'porn',\n",
    "'porno',\n",
    "'pornography',\n",
    "'prince albert piercing',\n",
    "'pthc',\n",
    "'pubes',\n",
    "'pussy',\n",
    "'queaf',\n",
    "'raghead',\n",
    "'raging boner',\n",
    "'rape',\n",
    "'raping',\n",
    "'rapist',\n",
    "'rectum',\n",
    "'reverse cowgirl',\n",
    "'rimjob',\n",
    "'rimming',\n",
    "'rosy palm',\n",
    "'rosy palm and her 5 sisters',\n",
    "'rusty trombone',\n",
    "'s&m',\n",
    "'sadism',\n",
    "'scat',\n",
    "'schlong',\n",
    "'scissoring',\n",
    "'semen',\n",
    "'sex',\n",
    "'sexo',\n",
    "'sexy',\n",
    "'shaved beaver',\n",
    "'shaved pussy',\n",
    "'shemale',\n",
    "'shibari',\n",
    "'shit',\n",
    "'shota',\n",
    "'shrimping',\n",
    "'slanteye',\n",
    "'slut',\n",
    "'smut',\n",
    "'snatch',\n",
    "'snowballing',\n",
    "'sodomize',\n",
    "'sodomy',\n",
    "'spic',\n",
    "'spooge',\n",
    "'spread legs',\n",
    "'strap on',\n",
    "'strapon',\n",
    "'strappado',\n",
    "'strip club',\n",
    "'style doggy',\n",
    "'suck',\n",
    "'sucks',\n",
    "'suicide girls',\n",
    "'sultry women',\n",
    "'swastika',\n",
    "'swinger',\n",
    "'tainted love',\n",
    "'taste my',\n",
    "'tea bagging',\n",
    "'threesome',\n",
    "'throating',\n",
    "'tied up',\n",
    "'tight white',\n",
    "'tit',\n",
    "'tits',\n",
    "'titties',\n",
    "'titty',\n",
    "'tongue in a',\n",
    "'topless',\n",
    "'tosser',\n",
    "'towelhead',\n",
    "'tranny',\n",
    "'tribadism',\n",
    "'tub girl',\n",
    "'tubgirl',\n",
    "'tushy',\n",
    "'twat',\n",
    "'twink',\n",
    "'twinkie',\n",
    "'two girls one cup',\n",
    "'undressing',\n",
    "'upskirt',\n",
    "'urethra play',\n",
    "'urophilia',\n",
    "'vagina',\n",
    "'venus mound',\n",
    "'vibrator',\n",
    "'violet blue',\n",
    "'violet wand',\n",
    "'vorarephilia',\n",
    "'voyeur',\n",
    "'vulva',\n",
    "'wank',\n",
    "'wet dream',\n",
    "'wetback',\n",
    "'white power',\n",
    "'women rapping',\n",
    "'wrapping men',\n",
    "'wrinkled starfish',\n",
    "'xx',\n",
    "'xxx',\n",
    "'yaoi',\n",
    "'yellow showers',\n",
    "'yiffy',\n",
    "'zoophilia']"
   ],
   "outputs": [],
   "metadata": {}
  },
  {
   "cell_type": "code",
   "execution_count": 2,
   "source": [
    "len(arrBad)"
   ],
   "outputs": [
    {
     "output_type": "execute_result",
     "data": {
      "text/plain": [
       "343"
      ]
     },
     "metadata": {},
     "execution_count": 2
    }
   ],
   "metadata": {}
  },
  {
   "cell_type": "code",
   "execution_count": 140,
   "source": [
    "# function to check profanity \n",
    "def check_profanity(text):\n",
    "    for prof in arrBad:\n",
    "        if prof in text:\n",
    "            return 1\n",
    "    return 0"
   ],
   "outputs": [],
   "metadata": {}
  },
  {
   "cell_type": "code",
   "execution_count": 141,
   "source": [
    "words['Profanity'] = words.lyrics.apply(lambda x: check_profanity(x))"
   ],
   "outputs": [],
   "metadata": {}
  },
  {
   "cell_type": "code",
   "execution_count": 142,
   "source": [
    "words.to_csv('words_profanity.csv')"
   ],
   "outputs": [],
   "metadata": {}
  }
 ],
 "metadata": {
  "kernelspec": {
   "display_name": "Python 3",
   "language": "python",
   "name": "python3"
  },
  "language_info": {
   "codemirror_mode": {
    "name": "ipython",
    "version": 3
   },
   "file_extension": ".py",
   "mimetype": "text/x-python",
   "name": "python",
   "nbconvert_exporter": "python",
   "pygments_lexer": "ipython3",
   "version": "3.8.8"
  }
 },
 "nbformat": 4,
 "nbformat_minor": 5
}